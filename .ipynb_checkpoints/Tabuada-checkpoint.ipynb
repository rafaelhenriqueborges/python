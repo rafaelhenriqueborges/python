{
 "cells": [
  {
   "cell_type": "raw",
   "id": "a4f8487d-d52f-4dcf-b5c6-82913a933fe5",
   "metadata": {},
   "source": [
    "Algoritmo que recebe um valor e imprime a sua tabuada."
   ]
  },
  {
   "cell_type": "code",
   "execution_count": 1,
   "id": "e6dc4362-147f-4914-9be0-ae8a7a3a5554",
   "metadata": {},
   "outputs": [
    {
     "name": "stdin",
     "output_type": "stream",
     "text": [
      "Digite um número:  5\n"
     ]
    },
    {
     "name": "stdout",
     "output_type": "stream",
     "text": [
      "5\n",
      "55\n",
      "555\n",
      "5555\n",
      "55555\n",
      "555555\n",
      "5555555\n",
      "55555555\n"
     ]
    }
   ],
   "source": [
    "num = input('Digite um número: ')\n",
    "for i in range (1,9):\n",
    "    print(num * i)\n"
   ]
  },
  {
   "cell_type": "code",
   "execution_count": null,
   "id": "ae560c5c-a38d-4681-88ad-b6ccc600e4bf",
   "metadata": {},
   "outputs": [],
   "source": []
  }
 ],
 "metadata": {
  "kernelspec": {
   "display_name": "Python 3 (ipykernel)",
   "language": "python",
   "name": "python3"
  },
  "language_info": {
   "codemirror_mode": {
    "name": "ipython",
    "version": 3
   },
   "file_extension": ".py",
   "mimetype": "text/x-python",
   "name": "python",
   "nbconvert_exporter": "python",
   "pygments_lexer": "ipython3",
   "version": "3.10.5"
  }
 },
 "nbformat": 4,
 "nbformat_minor": 5
}
