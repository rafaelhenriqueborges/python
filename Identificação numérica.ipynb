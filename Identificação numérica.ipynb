{
 "cells": [
  {
   "cell_type": "raw",
   "id": "cfb2f86f-47ed-4f4a-8675-c458ab351bf3",
   "metadata": {},
   "source": [
    "Considere um programa que deve classificar um número como par ou ímpar e, além disso, classificar ele como menor do que 100 ou maior ou igual a 100. Escreva um programa que faça essa classificação corretamente."
   ]
  },
  {
   "cell_type": "code",
   "execution_count": 21,
   "id": "3464faa1-1685-4290-a6fc-d33b26b27d17",
   "metadata": {},
   "outputs": [
    {
     "name": "stdin",
     "output_type": "stream",
     "text": [
      "Insira um número inteiro:  31\n"
     ]
    },
    {
     "name": "stdout",
     "output_type": "stream",
     "text": [
      "Número impar e menor que 100.\n"
     ]
    }
   ],
   "source": [
    "num = int(input('Insira um número inteiro: '))\n",
    "\n",
    "if (num % 2 == 0):\n",
    "    if (num < 100):\n",
    "        print('Número par e menor que 100.')\n",
    "    elif (num == 100):\n",
    "        print('Número par e igual a 100.')\n",
    "    else:\n",
    "        print('Número par e maior que 100.')\n",
    "else:\n",
    "    if (num < 100):\n",
    "        print('Número impar e menor que 100.')\n",
    "    else:\n",
    "        print('Número impar e maior que 100.')    "
   ]
  },
  {
   "cell_type": "code",
   "execution_count": null,
   "id": "61df3bbd-b19f-4cec-9069-df2597252e81",
   "metadata": {},
   "outputs": [],
   "source": []
  }
 ],
 "metadata": {
  "kernelspec": {
   "display_name": "Python 3 (ipykernel)",
   "language": "python",
   "name": "python3"
  },
  "language_info": {
   "codemirror_mode": {
    "name": "ipython",
    "version": 3
   },
   "file_extension": ".py",
   "mimetype": "text/x-python",
   "name": "python",
   "nbconvert_exporter": "python",
   "pygments_lexer": "ipython3",
   "version": "3.10.5"
  }
 },
 "nbformat": 4,
 "nbformat_minor": 5
}
